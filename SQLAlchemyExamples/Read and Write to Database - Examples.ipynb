{
 "cells": [
  {
   "cell_type": "code",
   "execution_count": 5,
   "id": "b445da18",
   "metadata": {},
   "outputs": [],
   "source": [
    "from sqlalchemy import create_engine\n",
    "from models import Cryptocurrency, Transaction\n",
    "\n",
    "from tools import (generate_uri_from_file,\n",
    "                   get_symbol_to_id_dict,\n",
    "                   get_id_to_symbol_dict)"
   ]
  },
  {
   "cell_type": "code",
   "execution_count": 6,
   "id": "73c1f6b9",
   "metadata": {},
   "outputs": [],
   "source": [
    "def get_id(db, ticker='BTC'):\n",
    "    '''returns the symbol id of the given ticker'''\n",
    "    sym_to_id_map = get_symbol_to_id_dict(db)\n",
    "    ticker_id = sym_to_id_map.get(ticker.upper(), None)  #returns ticker_id if it is found, and None when it does not exist\n",
    "    return None"
   ]
  },
  {
   "cell_type": "markdown",
   "id": "9643aafa",
   "metadata": {},
   "source": [
    "---\n",
    "## Database URI\n",
    "In this section I'm creating the URI to the database so we can connect more easily . I'm making use of my function `generate_uri_from_file` to take the configuration Yaml file as input and return the URI string."
   ]
  },
  {
   "cell_type": "code",
   "execution_count": 7,
   "id": "13efc8d2",
   "metadata": {},
   "outputs": [],
   "source": [
    "uri = generate_uri_from_file(\"db_config.yml\")"
   ]
  },
  {
   "cell_type": "markdown",
   "id": "94432371",
   "metadata": {},
   "source": [
    "---\n",
    "## Using Flask-SQLAlchemy to Read and Write to DB\n",
    "In this section, I will use the flask-SQLAlchemy package to read and write from and to the database. "
   ]
  },
  {
   "cell_type": "code",
   "execution_count": 8,
   "id": "7098e5a2",
   "metadata": {},
   "outputs": [],
   "source": [
    "from flask_sqlalchemy import SQLAlchemy\n",
    "from flask import Flask"
   ]
  },
  {
   "cell_type": "code",
   "execution_count": 9,
   "id": "48a945e4",
   "metadata": {},
   "outputs": [],
   "source": [
    "db = SQLAlchemy()\n",
    "app = Flask(__name__)"
   ]
  },
  {
   "cell_type": "code",
   "execution_count": 10,
   "id": "89e16ab7",
   "metadata": {},
   "outputs": [],
   "source": [
    "app.config['SQLALCHEMY_TRACK_MODIFICATIONS'] = False\n",
    "app.config['SQLALCHEMY_DATABASE_URI'] = uri"
   ]
  },
  {
   "cell_type": "code",
   "execution_count": 11,
   "id": "59a5fded",
   "metadata": {},
   "outputs": [],
   "source": [
    "db.init_app(app)"
   ]
  },
  {
   "cell_type": "markdown",
   "id": "6ccb93da",
   "metadata": {},
   "source": [
    "#### Using App Context\n",
    "We need to make use of Flask's app_context method in order to query the database (for standalone scripts). You will get an error if you don't."
   ]
  },
  {
   "cell_type": "code",
   "execution_count": 12,
   "id": "6eb8b88a",
   "metadata": {},
   "outputs": [],
   "source": [
    "with app.app_context():\n",
    "    results = db.session.query(Transaction).all()"
   ]
  },
  {
   "cell_type": "code",
   "execution_count": 13,
   "id": "a3ad6d71",
   "metadata": {},
   "outputs": [
    {
     "data": {
      "text/plain": [
       "[<Transaction: ticker_id=1, coins=100.000000000, cost basis=3999.00000>,\n",
       " <Transaction: ticker_id=1, coins=45.000000000, cost basis=10000.00000>,\n",
       " <Transaction: ticker_id=1, coins=1.000000000, cost basis=34000.00000>,\n",
       " <Transaction: ticker_id=2, coins=0.123456789, cost basis=350.00000>,\n",
       " <Transaction: ticker_id=3, coins=1500.000000000, cost basis=100.00000>]"
      ]
     },
     "execution_count": 13,
     "metadata": {},
     "output_type": "execute_result"
    }
   ],
   "source": [
    "results"
   ]
  },
  {
   "cell_type": "markdown",
   "id": "fbe65d8e",
   "metadata": {},
   "source": [
    "#### How to Retrieve Conditional Data\n",
    "Retrieving only data that meets certain conditions. For instance, maybe I want to query the data for only the transactions related to Bitcoin (in this case, I would need to know Bitcoins ticker_id on the \"transactions\" table. The id is 1."
   ]
  },
  {
   "cell_type": "code",
   "execution_count": 14,
   "id": "32748a44",
   "metadata": {},
   "outputs": [],
   "source": [
    "# Returning only Bitcoin transactions (Bitcoin's ticker_id is 1)\n",
    "with app.app_context():\n",
    "    results = db.session.query(Transaction).filter(Transaction.ticker_id==1).all()"
   ]
  },
  {
   "cell_type": "code",
   "execution_count": 15,
   "id": "c120a4c2",
   "metadata": {
    "scrolled": true
   },
   "outputs": [
    {
     "data": {
      "text/plain": [
       "[<Transaction: ticker_id=1, coins=100.000000000, cost basis=3999.00000>,\n",
       " <Transaction: ticker_id=1, coins=45.000000000, cost basis=10000.00000>,\n",
       " <Transaction: ticker_id=1, coins=1.000000000, cost basis=34000.00000>]"
      ]
     },
     "execution_count": 15,
     "metadata": {},
     "output_type": "execute_result"
    }
   ],
   "source": [
    "results"
   ]
  },
  {
   "cell_type": "code",
   "execution_count": 16,
   "id": "970ed9d1",
   "metadata": {},
   "outputs": [],
   "source": [
    "# Returning only Bitcoin transactions and only those that have more than 2 coins per transaction\n",
    "with app.app_context():\n",
    "    results = db.session.query(Transaction).filter(Transaction.ticker_id==1, \n",
    "                                                   Transaction.num_coins > 2).all()"
   ]
  },
  {
   "cell_type": "code",
   "execution_count": 17,
   "id": "55c3c3af",
   "metadata": {},
   "outputs": [
    {
     "data": {
      "text/plain": [
       "[<Transaction: ticker_id=1, coins=100.000000000, cost basis=3999.00000>,\n",
       " <Transaction: ticker_id=1, coins=45.000000000, cost basis=10000.00000>]"
      ]
     },
     "execution_count": 17,
     "metadata": {},
     "output_type": "execute_result"
    }
   ],
   "source": [
    "results"
   ]
  },
  {
   "cell_type": "markdown",
   "id": "19a4c182",
   "metadata": {},
   "source": [
    "#### Writing to the Database\n",
    "I will create a new sample transaction and write it to the database. In this example, I will add a new XRP transaction. Therefore, we first need to query the table cryptocurrencies to get the appropriate object. If XRP does not exist on the table yet, it will be added as well."
   ]
  },
  {
   "cell_type": "code",
   "execution_count": 18,
   "id": "8df45ec8",
   "metadata": {},
   "outputs": [],
   "source": [
    "_coin = 'XRP'\n",
    "\n",
    "with app.app_context():\n",
    "    \n",
    "    #create our new transaction\n",
    "    new_tx = Transaction(num_coins=1500, cost_basis=1215)  #$1,215 assumes an XRP price of around $0.81 -> 1500 XRP * $0.81 ~= $1215\n",
    "    \n",
    "    #---Retrieve coin from DB\n",
    "    coin_obj = db.session.query(Cryptocurrency).filter(Cryptocurrency.ticker==_coin).first()\n",
    "    if coin_obj is None:\n",
    "        coin_obj = Cryptocurrency(_coin) #if it does not exist, we create a new object\n",
    "        db.session.add(coin_obj)\n",
    "        db.session.commit()\n",
    "    \n",
    "    coin_obj.transactions.append(new_tx)\n",
    "    db.session.add(new_tx)\n",
    "    db.session.commit()"
   ]
  },
  {
   "cell_type": "markdown",
   "id": "b31cf242",
   "metadata": {},
   "source": [
    "You can run the toy application with flask (run `python app.py` in the terminal) to check that the data is indeed added to the database. You can also query the database for XRP transactions following the steps I showed already. Other ways of checking the database include accessing the MySQL terminal or some graphical program where you can see your tables and content."
   ]
  },
  {
   "cell_type": "code",
   "execution_count": null,
   "id": "bc3d8ecc",
   "metadata": {},
   "outputs": [],
   "source": []
  }
 ],
 "metadata": {
  "kernelspec": {
   "display_name": "Python 3 (ipykernel)",
   "language": "python",
   "name": "python3"
  },
  "language_info": {
   "codemirror_mode": {
    "name": "ipython",
    "version": 3
   },
   "file_extension": ".py",
   "mimetype": "text/x-python",
   "name": "python",
   "nbconvert_exporter": "python",
   "pygments_lexer": "ipython3",
   "version": "3.9.4"
  }
 },
 "nbformat": 4,
 "nbformat_minor": 5
}
