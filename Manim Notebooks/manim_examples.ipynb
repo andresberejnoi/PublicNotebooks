{
 "cells": [
  {
   "attachments": {},
   "cell_type": "markdown",
   "metadata": {},
   "source": [
    "## Manim Examples\n",
    "\n",
    "Collection of examples using Manim"
   ]
  },
  {
   "cell_type": "code",
   "execution_count": 2,
   "metadata": {},
   "outputs": [
    {
     "data": {
      "text/html": [
       "<pre style=\"white-space:pre;overflow-x:auto;line-height:normal;font-family:Menlo,'DejaVu Sans Mono',consolas,'Courier New',monospace\">Manim Community <span style=\"color: #008000; text-decoration-color: #008000\">v0.17.3</span>\n",
       "\n",
       "</pre>\n"
      ],
      "text/plain": [
       "Manim Community \u001b[32mv0.\u001b[0m\u001b[32m17.3\u001b[0m\n",
       "\n"
      ]
     },
     "metadata": {},
     "output_type": "display_data"
    }
   ],
   "source": [
    "from manim import *\n",
    "import numpy as np\n",
    "\n",
    "config.media_width = \"75%\"\n",
    "config.verbosity = \"WARNING\""
   ]
  },
  {
   "cell_type": "code",
   "execution_count": 16,
   "metadata": {},
   "outputs": [
    {
     "name": "stderr",
     "output_type": "stream",
     "text": [
      "                                                                                                           \r"
     ]
    },
    {
     "data": {
      "text/html": [
       "<video src=\"media/jupyter/ShapeAndTextScene@2023-06-29@16-09-26.mp4\" controls autoplay loop style=\"max-width: 75%;\"  >\n",
       "      Your browser does not support the <code>video</code> element.\n",
       "    </video>"
      ],
      "text/plain": [
       "<IPython.core.display.Video object>"
      ]
     },
     "metadata": {},
     "output_type": "display_data"
    }
   ],
   "source": [
    "%%manim -qh ShapeAndTextScene\n",
    "\n",
    "class ShapeAndTextScene(Scene):\n",
    "    def construct(self):\n",
    "        text = Tex(\"Example Scene With Some Shapes\")\n",
    "\n",
    "        circle = Circle()\n",
    "        circle.set_fill(BLUE, opacity=0.8)\n",
    "\n",
    "        hexagon = RegularPolygon(n=6)\n",
    "        hexagon.set_fill(GREEN, opacity=0.5)\n",
    "\n",
    "        self.play(Write(text))\n",
    "        self.play(text.animate.shift(UP*3))\n",
    "        self.wait(0.3)\n",
    "        self.play(DrawBorderThenFill(circle))\n",
    "        self.wait()\n",
    "\n",
    "        self.play(Transform(circle, hexagon), run_time=1.5)\n",
    "        self.wait(0.5)\n",
    "\n",
    "        self.play(hexagon.copy().animate.shift(LEFT * 3))\n",
    "        self.wait(0.35)\n",
    "        self.play(hexagon.copy().animate.shift(RIGHT * 3))\n",
    "        self.wait()\n"
   ]
  },
  {
   "cell_type": "code",
   "execution_count": 20,
   "metadata": {},
   "outputs": [
    {
     "name": "stderr",
     "output_type": "stream",
     "text": [
      "                                                                                 \r"
     ]
    },
    {
     "data": {
      "text/html": [
       "<video src=\"media/jupyter/CodeExample@2023-06-28@17-11-06.mp4\" controls autoplay loop style=\"max-width: 75%;\"  >\n",
       "      Your browser does not support the <code>video</code> element.\n",
       "    </video>"
      ],
      "text/plain": [
       "<IPython.core.display.Video object>"
      ]
     },
     "metadata": {},
     "output_type": "display_data"
    }
   ],
   "source": [
    "%%manim -qm CodeExample\n",
    "\n",
    "class CodeExample(Scene):\n",
    "    def construct(self):\n",
    "        code = '''\n",
    "%%manim -qm ShapeAndTextScene\n",
    "\n",
    "class ShapeAndTextScene(Scene):\n",
    "    def construct(self):\n",
    "        text = Tex(\"Example Scene With Some Shapes\")\n",
    "\n",
    "        circle = Circle()\n",
    "        circle.set_fill(BLUE, opacity=0.8)\n",
    "\n",
    "        self.play(Write(text))\n",
    "        self.play(text.animate.shift(UP*3))\n",
    "        self.wait(0.3)\n",
    "        self.play(DrawBorderThenFill(circle))\n",
    "        self.wait()\n",
    "'''\n",
    "        rendered_code = Code(code=code, tab_width=4, background=\"window\",\n",
    "                            language=\"Python\", font=\"Monospace\")\n",
    "        self.play(Create(rendered_code), run_time=5)\n",
    "        self.wait(2)"
   ]
  },
  {
   "cell_type": "code",
   "execution_count": 72,
   "metadata": {},
   "outputs": [
    {
     "name": "stderr",
     "output_type": "stream",
     "text": [
      "                                                                                              \r"
     ]
    },
    {
     "data": {
      "text/html": [
       "<video src=\"media/jupyter/MatrixExample@2023-06-29@16-53-19.mp4\" controls autoplay loop style=\"max-width: 75%;\"  >\n",
       "      Your browser does not support the <code>video</code> element.\n",
       "    </video>"
      ],
      "text/plain": [
       "<IPython.core.display.Video object>"
      ]
     },
     "metadata": {},
     "output_type": "display_data"
    }
   ],
   "source": [
    "%%manim -qh MatrixExample\n",
    "\n",
    "class MatrixExample(Scene):\n",
    "    def construct(self):\n",
    "\n",
    "        elements1 = [\n",
    "            [0.158, '\\\\pi', -4.325],\n",
    "            [11   ,    0  , 3.876],\n",
    "        ]\n",
    "\n",
    "        mat1 = Matrix(\n",
    "            elements1,\n",
    "            left_bracket = '\\\\{',\n",
    "            right_bracket = '\\\\}',\n",
    "            v_buff=1.3,\n",
    "            h_buff=2.5,\n",
    "        )\n",
    "\n",
    "        col0 = SurroundingRectangle(mat1.get_columns()[0])\n",
    "        col1 = SurroundingRectangle(mat1.get_columns()[1]) \n",
    "        col2 = SurroundingRectangle(mat1.get_columns()[2])\n",
    "\n",
    "        #animate creation of the matrix\n",
    "        self.play(Create(mat1), run_time=2)\n",
    "        self.wait()\n",
    "\n",
    "        # animate surrounding rectangles for each column\n",
    "        self.play(Create(col0))\n",
    "        self.wait()\n",
    "\n",
    "        self.play(Transform(col0, col1, replace_mobject_with_target_in_scene=True))\n",
    "        self.wait()      \n",
    "\n",
    "        self.play(Transform(col1, col2, replace_mobject_with_target_in_scene=True))\n",
    "        self.wait()\n",
    "        self.play(Uncreate(col2))\n",
    "\n",
    "        # change size of the entire matrix and shift its position\n",
    "        self.play(mat1.animate.scale(0.7).shift(LEFT*3.5 + UP*2))\n",
    "        self.wait()"
   ]
  },
  {
   "cell_type": "code",
   "execution_count": null,
   "metadata": {},
   "outputs": [],
   "source": []
  }
 ],
 "metadata": {
  "kernelspec": {
   "display_name": "manim",
   "language": "python",
   "name": "python3"
  },
  "language_info": {
   "codemirror_mode": {
    "name": "ipython",
    "version": 3
   },
   "file_extension": ".py",
   "mimetype": "text/x-python",
   "name": "python",
   "nbconvert_exporter": "python",
   "pygments_lexer": "ipython3",
   "version": "3.11.3"
  },
  "orig_nbformat": 4
 },
 "nbformat": 4,
 "nbformat_minor": 2
}
