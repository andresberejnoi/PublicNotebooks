{
 "cells": [
  {
   "cell_type": "code",
   "execution_count": null,
   "metadata": {},
   "outputs": [],
   "source": [
    "%config Completer.use_jedi = False       #without this line, autocomplete seemed to not be working, so I am putting it here. source: https://stackoverflow.com/questions/40536560/ipython-and-jupyter-autocomplete-not-working"
   ]
  },
  {
   "cell_type": "code",
   "execution_count": null,
   "metadata": {},
   "outputs": [],
   "source": [
    "import pandas as pd\n",
    "import cbpro"
   ]
  },
  {
   "cell_type": "code",
   "execution_count": null,
   "metadata": {},
   "outputs": [],
   "source": [
    "import time\n",
    "import numpy as np\n",
    "import pandas as pd\n",
    "import holoviews as hv\n",
    "import streamz\n",
    "import streamz.dataframe\n",
    "from streamz import Stream\n",
    "\n",
    "from holoviews import opts\n",
    "from holoviews.streams import Pipe, Buffer\n",
    "\n",
    "from functools import partial    #to decide which parts of data to plot\n",
    "\n",
    "hv.extension('bokeh')"
   ]
  },
  {
   "cell_type": "code",
   "execution_count": null,
   "metadata": {},
   "outputs": [],
   "source": [
    "from tornado.ioloop import PeriodicCallback\n",
    "from tornado import gen"
   ]
  },
  {
   "cell_type": "markdown",
   "metadata": {},
   "source": [
    "# WebsocketClient Class\n",
    "\n",
    "The cbpro package provides a class to connect to the Coinbase Pro websocket data feed. Here below is the way it is called by default, but there are 3 methods that should be overwritten in order to acctually deal with data: `.on_open()`, `.on_message()`, and `.on_close()`. These should be overwritten on a child class that inherits from `cbpro.WebsocketClient` and deals with the data appropriately. Below is the default parent class and on the next cells is the implementation of a child.\n",
    "\n",
    "```py\n",
    "#Creating a Data streaming client\n",
    "stream = cbpro.WebsocketClient(url='wss://ws-feed-public.sandbox.pro.coinbase.com',\n",
    "                                      products=[\"BTC-USD\", \"ETH-USD\"],\n",
    "                                      channels=[\"ticker\"])\n",
    "                                      \n",
    "```\n",
    "\n",
    "Now, here is two custom implementations, the first one prints the data coming from the server. The second version sends the data to a Holoviews Buffer object to be plotted dynamically:"
   ]
  },
  {
   "cell_type": "code",
   "execution_count": null,
   "metadata": {},
   "outputs": [],
   "source": [
    "class TextWebsocketClient(cbpro.WebsocketClient):\n",
    "    def on_open(self):\n",
    "        self.url           = 'wss://ws-feed-public.sandbox.pro.coinbase.com'\n",
    "        self.message_count = 0\n",
    "    def on_message(self,msg):\n",
    "        self.message_count += 1\n",
    "        msg_type = msg.get('type',None)\n",
    "        if msg_type == 'ticker':\n",
    "            time_val   = msg.get('time',('-'*27))\n",
    "            price_val  = msg.get('price',None)\n",
    "            price_val  = float(price_val) if price_val is not None else 'None'\n",
    "            product_id = msg.get('product_id',None)\n",
    "            \n",
    "            print(f\"{time_val:30} {price_val:.3f} {product_id}\\tchannel type:{msg_type}\")\n",
    "\n",
    "    def on_close(self):\n",
    "        print(f\"<---Websocket connection closed--->\\n\\tTotal messages: {self.message_count}\")"
   ]
  },
  {
   "cell_type": "code",
   "execution_count": null,
   "metadata": {},
   "outputs": [],
   "source": [
    "class GraphicWebsocketClient(cbpro.WebsocketClient):\n",
    "    CBPRO_DATE_FORMAT = '%Y-%m-%dT%H:%M:%S.%f'   #this parses the string date returned by Coinbase Pro into a pandas datetime object\n",
    "    def __init__(self,datastream=None,**kwargs):\n",
    "        super().__init__(**kwargs)\n",
    "        self.datastream = datastream\n",
    "    \n",
    "    def on_open(self):\n",
    "        self.url           = 'wss://ws-feed-public.sandbox.pro.coinbase.com'\n",
    "        self.message_count = 0\n",
    "    \n",
    "    def on_message(self,msg):\n",
    "        self.message_count += 1\n",
    "        msg_type = msg.get('type',None)\n",
    "        if msg_type == 'ticker':\n",
    "            time_val   = msg.get('time',None)\n",
    "            price_val  = msg.get('price',None)\n",
    "            \n",
    "            #I'm concerned that this is too much work for every new data point, but\n",
    "            #   what do I know?\n",
    "            #new_data_df = pd.DataFrame({'timestamp':[time_val],\n",
    "            #                            'price':[price_val]})\n",
    "            #new_data_df['timestamp'] = pd.to_datetime(new_data_df['timestamp'],format=CBPRO_DATE_FORMAT)\n",
    "            #new_data_df.set_index('timestamp',drop=True)\n",
    "            #new_data_df.index = pd.to_datetime(new_data_df.index,format=CBPRO_DATE_FORMAT)\n",
    "            #print(new_data_df)\n",
    "            #print(new_data_df.index)\n",
    "            #self.datastream.emit(new_data_df)\n",
    "            \n",
    "            '''\n",
    "            self.datastream.emit(pd.DataFrame({       # .emit() is for Stream objects\n",
    "                'timestamp':[pd.to_datetime(time_val,format=CBPRO_DATE_FORMAT)],\n",
    "                'price'    :[price_val]\n",
    "            }))\n",
    "            '''\n",
    "            \n",
    "            '''\n",
    "            self.datastream.send(pd.DataFrame({       #.send() works for Buffer objects\n",
    "                'timestamp':[pd.to_datetime(time_val,format=self.CBPRO_DATE_FORMAT)],\n",
    "                'price'    :[price_val],\n",
    "            }).set_index('timestamp')\n",
    "                                )\n",
    "            '''\n",
    "            \n",
    "            self.datastream.send(\n",
    "                #np.array([[pd.to_datetime(time_val,format=self.CBPRO_DATE_FORMAT)], price_val])\n",
    "                np.array([[time_val,price_val]])\n",
    "            )\n",
    "        \n",
    "    \n",
    "    def on_close(self):\n",
    "        print(f\"<---Websocket connection closed--->\\n\\tTotal messages: {self.message_count}\")"
   ]
  },
  {
   "cell_type": "markdown",
   "metadata": {},
   "source": [
    "I tried many ways to get the data. Initially, I was using a streaming dataframe together with buffer but I think I'm gettting the same result just with a buffer. Below is part of my original code:\n",
    "\n",
    "```py\n",
    "df_struct = {\n",
    "    'timestamp'  :[],\n",
    "    'price'      :[],\n",
    "#    'product_id' :[],\n",
    "}\n",
    "\n",
    "CBPRO_DATE_FORMAT = '%Y-%m-%dT%H:%M:%S.%f'\n",
    "sample_df = pd.DataFrame(df_struct)#.set_index('timestamp',drop=True)\n",
    "#sample_df.index = pd.to_datetime(sample_df.index,format=CBPRO_DATE_FORMAT)\n",
    "\n",
    "stream = Stream()\n",
    "stream_df = streamz.dataframe.DataFrame(stream,example=sample_df)\n",
    "\n",
    "buffer = Buffer(stream_df,length=100)\n",
    "print(stream_df)\n",
    "```\n",
    "\n",
    "\n",
    "However, I changed it to the following (I left the commented out lines to show different attempts at getting the data right):"
   ]
  },
  {
   "cell_type": "code",
   "execution_count": null,
   "metadata": {},
   "outputs": [],
   "source": [
    "#df_sample = pd.DataFrame({'timestamp':[],'price':[]}).set_index('timestamp',drop=True)\n",
    "#buffer = Buffer(df_sample, length=100)\n",
    "buffer = Buffer(np.zeros((0,2)), length=100)\n",
    "#buffer = Buffer(np.zeros((0, 2)),length=100)\n",
    "product_to_stream = 'BTC-USD'\n",
    "socket_stream = GraphicWebsocketClient(buffer,products=[product_to_stream],channels=['ticker'])\n",
    "#socket_stream = GraphicWebsocketClient(stream_df,products=['BTC-USD'],channels=['ticker'])\n",
    "socket_stream.start()"
   ]
  },
  {
   "cell_type": "code",
   "execution_count": null,
   "metadata": {},
   "outputs": [],
   "source": [
    "'''\n",
    "hv.DynamicMap(partial(hv.Curve,\n",
    "              kdims=['timestamp'],\n",
    "              vdims=['price']),\n",
    "              streams=[buffer]).opts(padding=0.05, width=800,show_grid=True)\n",
    "'''\n",
    "\n",
    "'''\n",
    "hv.DynamicMap(\n",
    "    partial(hv.Curve,kdims=['timestamp'],vdims=['price']),\n",
    "    streams=[buffer]\n",
    ").opts(\n",
    "        title=f'Live {product_to_stream} Chart',\n",
    "        padding=0.05,\n",
    "        width=800,\n",
    "        height=500,\n",
    "        show_grid=True\n",
    "    )\n",
    "'''\n",
    "\n",
    "hv.DynamicMap(\n",
    "    hv.Curve,streams=[buffer],\n",
    ").opts(\n",
    "        title=f'Live {product_to_stream} Chart',\n",
    "        padding=0.05,\n",
    "        width=800,\n",
    "        height=500,\n",
    "        show_grid=True\n",
    "    )"
   ]
  },
  {
   "cell_type": "code",
   "execution_count": null,
   "metadata": {},
   "outputs": [],
   "source": [
    "hv.DynamicMap(hv.Table, streams=[buffer]).opts(padding=0.1, width=600)"
   ]
  },
  {
   "cell_type": "code",
   "execution_count": null,
   "metadata": {},
   "outputs": [],
   "source": [
    "socket_stream.close()"
   ]
  },
  {
   "cell_type": "code",
   "execution_count": null,
   "metadata": {},
   "outputs": [],
   "source": []
  }
 ],
 "metadata": {
  "kernelspec": {
   "display_name": "Python 3",
   "language": "python",
   "name": "python3"
  },
  "language_info": {
   "codemirror_mode": {
    "name": "ipython",
    "version": 3
   },
   "file_extension": ".py",
   "mimetype": "text/x-python",
   "name": "python",
   "nbconvert_exporter": "python",
   "pygments_lexer": "ipython3",
   "version": "3.9.1"
  }
 },
 "nbformat": 4,
 "nbformat_minor": 4
}
