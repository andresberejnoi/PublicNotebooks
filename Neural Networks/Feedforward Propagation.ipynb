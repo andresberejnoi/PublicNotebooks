{
 "cells": [
  {
   "cell_type": "code",
   "execution_count": 1,
   "id": "3f7a59b7",
   "metadata": {},
   "outputs": [],
   "source": [
    "import numpy as np"
   ]
  },
  {
   "cell_type": "code",
   "execution_count": 11,
   "id": "2486f400",
   "metadata": {},
   "outputs": [],
   "source": [
    "class NeuralNet(object):\n",
    "    RNG = np.random.default_rng()\n",
    "\n",
    "\n",
    "    def __init__(self, topology:list[int] = []):\n",
    "        self.topology    = topology\n",
    "        self.weight_mats = []\n",
    "\n",
    "        self._init_matrices()\n",
    "\n",
    "\n",
    "    def _init_matrices(self):\n",
    "        #-- set up matrices\n",
    "        if len(self.topology) > 1:\n",
    "            j = 1\n",
    "            for i in range(len(self.topology)-1):\n",
    "                num_rows = self.topology[i]\n",
    "                num_cols = self.topology[j]\n",
    "\n",
    "                mat = self.RNG.random(size=(num_rows, num_cols))\n",
    "                self.weight_mats.append(mat)\n",
    "\n",
    "                j += 1\n",
    "                \n",
    "    \n",
    "    def feedforward(self, input_vector):\n",
    "        I = input_vector\n",
    "        \n",
    "        for idx, W in enumerate(self.weight_mats):\n",
    "            \n",
    "            I = np.dot(I, W)\n",
    "            \n",
    "            if idx == len(self.weight_mats) - 1:\n",
    "                out_vector = np.tanh(I)  #output layer\n",
    "            else:\n",
    "                I          = np.tanh(I)  #hidden layers\n",
    "            \n",
    "        return out_vector"
   ]
  },
  {
   "cell_type": "code",
   "execution_count": 16,
   "id": "aea4a949",
   "metadata": {},
   "outputs": [],
   "source": [
    "nnet = NeuralNet(topology=[3,4,2])"
   ]
  },
  {
   "cell_type": "code",
   "execution_count": 18,
   "id": "10ed5574",
   "metadata": {},
   "outputs": [
    {
     "data": {
      "text/plain": [
       "array([0.8619927 , 0.95673227])"
      ]
     },
     "execution_count": 18,
     "metadata": {},
     "output_type": "execute_result"
    }
   ],
   "source": [
    "nnet.feedforward([0.3, 5, 1])"
   ]
  },
  {
   "cell_type": "code",
   "execution_count": null,
   "id": "ec6287b8",
   "metadata": {},
   "outputs": [],
   "source": []
  }
 ],
 "metadata": {
  "kernelspec": {
   "display_name": "Python 3 (ipykernel)",
   "language": "python",
   "name": "python3"
  },
  "language_info": {
   "codemirror_mode": {
    "name": "ipython",
    "version": 3
   },
   "file_extension": ".py",
   "mimetype": "text/x-python",
   "name": "python",
   "nbconvert_exporter": "python",
   "pygments_lexer": "ipython3",
   "version": "3.9.12"
  }
 },
 "nbformat": 4,
 "nbformat_minor": 5
}
